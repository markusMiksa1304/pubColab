{
  "nbformat": 4,
  "nbformat_minor": 0,
  "metadata": {
    "colab": {
      "name": "KWbq.ipynb",
      "provenance": [],
      "collapsed_sections": [
        "9hi6zGLN9pgm",
        "qhNVwf_DCm0O",
        "9W3IYgnbXVOO",
        "BODhZSjNYGwJ"
      ],
      "authorship_tag": "ABX9TyOO30hCNOBhgyBklG7Bapob",
      "include_colab_link": true
    },
    "kernelspec": {
      "name": "python3",
      "display_name": "Python 3"
    }
  },
  "cells": [
    {
      "cell_type": "markdown",
      "metadata": {
        "id": "view-in-github",
        "colab_type": "text"
      },
      "source": [
        "<a href=\"https://colab.research.google.com/github/markusMiksa1304/pubColab/blob/main/KWbq.ipynb\" target=\"_parent\"><img src=\"https://colab.research.google.com/assets/colab-badge.svg\" alt=\"Open In Colab\"/></a>"
      ]
    },
    {
      "cell_type": "markdown",
      "metadata": {
        "id": "tp4PHHSy9Lv4"
      },
      "source": [
        "#Intro\n",
        "\n",
        "**Colab Authentication**\n",
        "\n",
        "Run this first if you want to use the interactive Queries (not needed for read only!)"
      ]
    },
    {
      "cell_type": "code",
      "metadata": {
        "id": "wRsdIYIN9J83"
      },
      "source": [
        "from google.colab import auth\n",
        "auth.authenticate_user()"
      ],
      "execution_count": null,
      "outputs": []
    },
    {
      "cell_type": "code",
      "metadata": {
        "id": "epuMCYvWCX5c"
      },
      "source": [
        "# shapley model code for optional #python_feature-analysis \n",
        "!pip install shap"
      ],
      "execution_count": null,
      "outputs": []
    },
    {
      "cell_type": "markdown",
      "metadata": {
        "id": "wuascmIW9TfB"
      },
      "source": [
        "Test der Verbindung"
      ]
    },
    {
      "cell_type": "code",
      "metadata": {
        "id": "vjdKJjbb9Trm"
      },
      "source": [
        "%%bigquery --project tefgfs\n",
        "#https://towardsdatascience.com/leveraging-bigquery-with-google-analytics-data-b6085d8415b\n",
        "\n",
        "\n",
        "WITH\n",
        "  dateRangeData AS (\n",
        "  SELECT    *  FROM   `tefgfs.103498486.ga_sessions_20201005`)   #  WHERE  _TABLE_SUFFIX BETWEEN \"20201005\" AND \"20201007\"  )\n",
        "\n",
        "\n",
        "Select\n",
        "Count ( Distinct(\n",
        "CASE\n",
        " WHEN totals.visits=1 THEN   #warum \n",
        "      CONCAT( fullvisitorid,\"-\",CAST(visitStartTime AS string))    \n",
        "else \"\"    \n",
        "End )) as Sessions\n",
        "from\n",
        "dateRangeData#, UNNEST(hits) AS hits#,"
      ],
      "execution_count": null,
      "outputs": []
    },
    {
      "cell_type": "markdown",
      "metadata": {
        "id": "9hi6zGLN9pgm"
      },
      "source": [
        "\n",
        "---\n",
        "# **InputDaten mopGA6**  .. plus Order_Status\n"
      ]
    },
    {
      "cell_type": "markdown",
      "metadata": {
        "id": "vc75aHfnp1ok"
      },
      "source": [
        "ein Blick auf die beiden Datasets mmML und ReportingData"
      ]
    },
    {
      "cell_type": "code",
      "metadata": {
        "id": "efkcrQJep14O"
      },
      "source": [
        "%%bigquery --project tefgfs \n",
        "SELECT\n",
        " * EXCEPT(is_typed)\n",
        "FROM\n",
        " tefgfs.mmML.INFORMATION_SCHEMA.TABLES\n",
        "# tefgfs.ReportingData.INFORMATION_SCHEMA.TABLES\n",
        "#WHERE\n",
        "# table_type=\"BASE TABLE\""
      ],
      "execution_count": null,
      "outputs": []
    },
    {
      "cell_type": "code",
      "metadata": {
        "id": "j8icyTjZA-BH"
      },
      "source": [
        "%%bigquery --project tefgfs \n",
        "WITH\n",
        "  mopGA AS ( SELECT  if(gaTransactId is null,0,1) as label, *  FROM   `tefgfs.ReportingData.mopGaSourcev6_o2_20200829` limit 10 )      \n",
        "Select * from mopGA"
      ],
      "execution_count": null,
      "outputs": []
    },
    {
      "cell_type": "code",
      "metadata": {
        "id": "401ZQw_k9t9N"
      },
      "source": [
        "%%bigquery --project tefgfs \n",
        "WITH\n",
        "  mopGA AS (\n",
        "  SELECT    *  FROM   `tefgfs.ReportingData.mopGaSourcev6_o2_20200829` where gaTransactId <> \"None\")   #  WHERE  _TABLE_SUFFIX BETWEEN \"20201005\" AND \"20201007\"  )\n",
        "\n",
        "Select gaTransactId,TRANSACTION_ID,ORDER_STATUS \n",
        "from (\n",
        " SELECT * FROM  mopGA #where gaTransactId is not NULL  and gaTransactId <> \"None\" Limit 10) mopGA\n",
        "LEFT  JOIN  (SELECT * FROM `tefgfs.MetaLookupData.NET_Conversions_*`   )  Activations\n",
        "ON mopGA.gaTransactId = Activations.TRANSACTION_ID ) mopGA6plus  "
      ],
      "execution_count": null,
      "outputs": []
    },
    {
      "cell_type": "markdown",
      "metadata": {
        "id": "pxrV9rKRBab6"
      },
      "source": [
        "\n",
        "\n",
        "---\n",
        "# **MachineLearning aufsetzen**\n"
      ]
    },
    {
      "cell_type": "markdown",
      "metadata": {
        "id": "ETT5jtU9xVOL"
      },
      "source": [
        "**Hinzufügen des Orderaktivierungs-Status zur mopGA**"
      ]
    },
    {
      "cell_type": "code",
      "metadata": {
        "id": "ORPma4K7rX5C"
      },
      "source": [
        "%%bigquery --project tefgfs \n",
        "\n",
        "SELECT *   EXCEPT (TRANSACTION_ID,UPLOAD_DATE\t) FROM  (Select *   From `tefgfs.ReportingData.mopGaSourcev6_o2_20200829`  where gaTransactId is not NULL  and gaTransactId <> \"None\" ) mopGA\n",
        "LEFT  JOIN  (SELECT * FROM `tefgfs.MetaLookupData.NET_Conversions_*`   )  Activations\n",
        "ON mopGA.gaTransactId = Activations.TRANSACTION_ID   Where ORDER_STATUS <> \"None\" order by ORDER_STATUS"
      ],
      "execution_count": null,
      "outputs": []
    },
    {
      "cell_type": "markdown",
      "metadata": {
        "id": "GcyEj897Sd8_"
      },
      "source": [
        "**Hinzufügen weiterer Spalten zur mopGA**"
      ]
    },
    {
      "cell_type": "code",
      "metadata": {
        "id": "w5Jnb4J5Sd9B"
      },
      "source": [
        "%%bigquery --project tefgfs \n",
        "\n",
        "SELECT *   EXCEPT (TRANSACTION_ID,UPLOAD_DATE\t) FROM  (Select *   From `tefgfs.ReportingData.mopGaSourcev6_o2_20200829`  where gaTransactId is not NULL  and gaTransactId <> \"None\" ) mopGA\n",
        "LEFT  JOIN  (SELECT * FROM `tefgfs.MetaLookupData.NET_Conversions_*`   )  Activations\n",
        "ON mopGA.gaTransactId = Activations.TRANSACTION_ID   Where ORDER_STATUS <> \"None\" order by ORDER_STATUS"
      ],
      "execution_count": null,
      "outputs": []
    },
    {
      "cell_type": "markdown",
      "metadata": {
        "id": "lI7OPetNGYjd"
      },
      "source": [
        "**Rauschen entfernen und  bouncer**"
      ]
    },
    {
      "cell_type": "code",
      "metadata": {
        "id": "m3990mBVGY8V"
      },
      "source": [
        "%%bigquery --project tefgfs \n",
        "\n",
        "Select  count(*) from (Select if(gaTransactId is null,0,1) as label, *  FROM   `tefgfs.ReportingData.mopGaSourcev6_o2_20200829` ) \n",
        "where   sessionTotalInteractionCount > 4 and sessionDurationMS > 500  and isBounce\t= 0   # and  label = 1    \n"
      ],
      "execution_count": null,
      "outputs": []
    },
    {
      "cell_type": "markdown",
      "metadata": {
        "id": "UTr4-TutogkM"
      },
      "source": [
        "**Trainingsdaten**-Tabelle "
      ]
    },
    {
      "cell_type": "code",
      "metadata": {
        "id": "CXDWgQ_UYQMo"
      },
      "source": [
        "%%bigquery --project tefgfs \n",
        "-- Create train  data 10 Days\n",
        "\n",
        "CREATE  OR REPLACE Table `tefgfs.mmML.KW_trainData` as\n",
        "\n",
        "Select *  EXCEPT(sessionDate, rowId,visitId,GCLID, gaTransactId,transactionItemCats,transactionItemVariants,isCartAdd, isDirectBuySession,isEShopTransaction,isSessionCommProduct,\tisSessionCd70Postpaid,     quantity,ProductCategoryFilter_PO             \n",
        "                , productCheckoutPromocode) \n",
        "from (Select if(gaTransactId is null,0,1) as label, *  FROM   `tefgfs.ReportingData.mopGaSourcev6_o2_*`  WHERE  _TABLE_SUFFIX BETWEEN \"20200920\" AND \"20200930\" ) \n",
        "where   sessionTotalInteractionCount > 4 and sessionDurationMS > 500  and isBounce\t= 0\n",
        "\n"
      ],
      "execution_count": null,
      "outputs": []
    },
    {
      "cell_type": "code",
      "metadata": {
        "id": "WBgiA1bSyAWs"
      },
      "source": [
        "%%bigquery --project tefgfs \n",
        "Select count(label) as yLines from `tefgfs.mmML.KW_trainData` "
      ],
      "execution_count": null,
      "outputs": []
    },
    {
      "cell_type": "markdown",
      "metadata": {
        "id": "15TV61TRRwrg"
      },
      "source": [
        "Sichtung der Trainingsdaten"
      ]
    },
    {
      "cell_type": "code",
      "metadata": {
        "id": "3sF6l5ekwpqv"
      },
      "source": [
        "%%bigquery --project tefgfs \n",
        "Select * from `tefgfs.mmML.KW_trainData` limit 10"
      ],
      "execution_count": null,
      "outputs": []
    },
    {
      "cell_type": "markdown",
      "metadata": {
        "id": "QrkSuAvrPsp1"
      },
      "source": [
        ""
      ]
    },
    {
      "cell_type": "code",
      "metadata": {
        "id": "0whDLEq4Ps0x"
      },
      "source": [
        ""
      ],
      "execution_count": null,
      "outputs": []
    },
    {
      "cell_type": "markdown",
      "metadata": {
        "id": "WMJYsBCZtfB_"
      },
      "source": [
        "**Test Daten**-Tabelle"
      ]
    },
    {
      "cell_type": "code",
      "metadata": {
        "id": "JheomXiAtfUb"
      },
      "source": [
        "%%bigquery --project tefgfs \n",
        "-- Create train  data .\n",
        "\n",
        "CREATE  OR REPLACE Table `tefgfs.mmML.KW_testData` as\n",
        "\n",
        "Select *  EXCEPT(sessionDate, rowId,visitId,GCLID, gaTransactId,transactionItemCats,transactionItemVariants,isCartAdd, isDirectBuySession,isEShopTransaction,isSessionCommProduct,\tisSessionCd70Postpaid, quantity,ProductCategoryFilter_PO\n",
        "           ,productCheckoutPromocode) \n",
        "from (Select if(gaTransactId is null,0,1) as label, *  FROM   `tefgfs.ReportingData.mopGaSourcev6_o2_*`  WHERE  _TABLE_SUFFIX BETWEEN \"20201001\" AND \"20201007\" ) \n",
        "where   sessionTotalInteractionCount > 4 and sessionDurationMS > 500  and isBounce\t= 0"
      ],
      "execution_count": null,
      "outputs": []
    },
    {
      "cell_type": "code",
      "metadata": {
        "id": "Qcnc30tNEpRC"
      },
      "source": [
        "%%bigquery --project tefgfs \n",
        "Select count(label) as yLines from `tefgfs.mmML.KW_testData` "
      ],
      "execution_count": null,
      "outputs": []
    },
    {
      "cell_type": "code",
      "metadata": {
        "id": "bMFfzuqMEaPD"
      },
      "source": [
        "%%bigquery --project tefgfs \n",
        "\n",
        "-- Create veryLarge TestData2\n",
        "\n",
        "CREATE  OR REPLACE Table `tefgfs.mmML.KW_testData2` as\n",
        "\n",
        "Select *  EXCEPT(sessionDate, rowId,visitId,GCLID, gaTransactId,transactionItemCats,transactionItemVariants,isCartAdd, isDirectBuySession,isEShopTransaction,isSessionCommProduct,\tisSessionCd70Postpaid, quantity,ProductCategoryFilter_PO\n",
        ", productCheckoutPromocode) \n",
        "from (Select if(gaTransactId is null,0,1) as label, *  FROM   `tefgfs.ReportingData.mopGaSourcev6_o2_*`  WHERE  _TABLE_SUFFIX BETWEEN \"20200501\" AND \"20200801\" ) \n",
        "where   sessionTotalInteractionCount > 4 and sessionDurationMS > 500  and isBounce\t= 0\n"
      ],
      "execution_count": null,
      "outputs": []
    },
    {
      "cell_type": "code",
      "metadata": {
        "id": "fF4Kbt56yxpp"
      },
      "source": [
        "%%bigquery --project tefgfs \n",
        "Select count(label) as yLines from `tefgfs.mmML.KW_testData2` "
      ],
      "execution_count": null,
      "outputs": []
    },
    {
      "cell_type": "markdown",
      "metadata": {
        "id": "qhNVwf_DCm0O"
      },
      "source": [
        "\n",
        "# **Klassisches python** mit shap \n",
        "https://slundberg.github.io/shap/notebooks/NHANES%20I%20Survival%20Model.html"
      ]
    },
    {
      "cell_type": "code",
      "metadata": {
        "id": "O8_L4c7dA8t9"
      },
      "source": [
        "import shap\n",
        "import xgboost\n",
        "from sklearn.model_selection import train_test_split\n",
        "import matplotlib.pylab as pl"
      ],
      "execution_count": null,
      "outputs": []
    },
    {
      "cell_type": "code",
      "metadata": {
        "id": "qsVd2aH_Csf0"
      },
      "source": [
        "#hot encoding\n",
        "#https://www.kaggle.com/ankitkuls/xgboost-with-one-hot-encoding\n",
        "#https://towardsdatascience.com/explaining-feature-importance-by-example-of-a-random-forest-d9166011959e\n",
        "#https://medium.com/applied-data-science/new-r-package-the-xgboost-explainer-51dd7d1aa211\n",
        "#python_feature-analysis:\n",
        "#https://machinelearningmastery.com/feature-importance-and-feature-selection-with-xgboost-in-python/\n",
        "\n",
        "\n",
        "...\n"
      ],
      "execution_count": null,
      "outputs": []
    },
    {
      "cell_type": "markdown",
      "metadata": {
        "id": "7LZKA-naDVVl"
      },
      "source": [
        "# **BQ xgboost**\n"
      ]
    },
    {
      "cell_type": "code",
      "metadata": {
        "id": "qVN86-tMDcMx"
      },
      "source": [
        "%%bigquery --project tefgfs \n",
        "\n",
        "CREATE  OR REPLACE MODEL `tefgfs.mmML.KW_xgboostMopGAv6`\n",
        "OPTIONS(MODEL_TYPE='BOOSTED_TREE_CLASSIFIER',\n",
        "        BOOSTER_TYPE = 'GBTREE',\n",
        "        NUM_PARALLEL_TREE = 1,\n",
        "        MAX_ITERATIONS = 50,\n",
        "        TREE_METHOD = 'HIST',\n",
        "        EARLY_STOP = TRUE,\n",
        "        SUBSAMPLE = 0.85,\n",
        "        INPUT_LABEL_COLS = ['label']) AS \n",
        "SELECT * from `tefgfs.mmML.KW_trainData`  "
      ],
      "execution_count": null,
      "outputs": []
    },
    {
      "cell_type": "markdown",
      "metadata": {
        "id": "lER3NSsmKgpR"
      },
      "source": [
        "**xgb Auswertung**"
      ]
    },
    {
      "cell_type": "code",
      "metadata": {
        "id": "p6NzVsbPKuIB"
      },
      "source": [
        "%%bigquery  --project tefgfs \n",
        "\n",
        "SELECT\n",
        "  *\n",
        "FROM\n",
        "  ML.TRAINING_INFO(MODEL `tefgfs.mmML.KW_xgboostMopGAv6`)\n",
        "ORDER BY iteration \n"
      ],
      "execution_count": null,
      "outputs": []
    },
    {
      "cell_type": "code",
      "metadata": {
        "id": "n5h_Hwu3nZGT"
      },
      "source": [
        "%%bigquery  --project tefgfs \n",
        "SELECT\n",
        "  *\n",
        "FROM\n",
        "  ML.FEATURE_INFO(MODEL `tefgfs.mmML.KW_xgboostMopGAv6`)"
      ],
      "execution_count": null,
      "outputs": []
    },
    {
      "cell_type": "markdown",
      "metadata": {
        "id": "vZD9FrH_XLMi"
      },
      "source": [
        "Model **evaluate**"
      ]
    },
    {
      "cell_type": "code",
      "metadata": {
        "id": "AtEq3bzaXLMk"
      },
      "source": [
        "%%bigquery --project tefgfs \n",
        "\n",
        "SELECT\n",
        "  *\n",
        "FROM ML.EVALUATE(MODEL `tefgfs.mmML.KW_xgboostMopGAv6`,  \n",
        "(Select * from  `tefgfs.mmML.KW_testData2`) )\n"
      ],
      "execution_count": null,
      "outputs": []
    },
    {
      "cell_type": "code",
      "metadata": {
        "id": "0xB2ezshj9Zn"
      },
      "source": [
        "%%bigquery --project tefgfs \n",
        "\n",
        "SELECT\n",
        "  *,\n",
        "  CASE\n",
        "    WHEN roc_auc > .9 THEN 'good'\n",
        "    WHEN roc_auc > .8 THEN 'fair'\n",
        "    WHEN roc_auc > .7 THEN 'decent'\n",
        "    WHEN roc_auc > .6 THEN 'not great'\n",
        "  ELSE 'poor' END AS model_quality\n",
        "FROM \n",
        "ML.EVALUATE(MODEL `tefgfs.mmML.KW_xgboostMopGAv6`,  \n",
        "(Select * from  `tefgfs.mmML.KW_testData2`) )\n",
        "\n",
        "#0.995145"
      ],
      "execution_count": null,
      "outputs": []
    },
    {
      "cell_type": "markdown",
      "metadata": {
        "id": "UYRCV2cJgEo-"
      },
      "source": [
        "**Die ROC Kurve**"
      ]
    },
    {
      "cell_type": "code",
      "metadata": {
        "id": "SIfoHVA2gE5k"
      },
      "source": [
        "%%bigquery --project tefgfs roc\n",
        "SELECT\n",
        "  * \n",
        "FROM\n",
        "  ML.ROC_CURVE(MODEL `tefgfs.mmML.KW_xgboostMopGAv6`)"
      ],
      "execution_count": null,
      "outputs": []
    },
    {
      "cell_type": "code",
      "metadata": {
        "id": "gmIONmP1gmP-"
      },
      "source": [
        "# and plot our ROC curve!\n",
        "import matplotlib.pyplot as plt\n",
        "\n",
        "# plot the false positive rate by true postive rate (aka recall)\n",
        "plt.plot(roc.false_positive_rate, roc.recall)"
      ],
      "execution_count": null,
      "outputs": []
    },
    {
      "cell_type": "markdown",
      "metadata": {
        "id": "wxLpM74WYfLk"
      },
      "source": [
        "**Feature importance**"
      ]
    },
    {
      "cell_type": "code",
      "metadata": {
        "id": "Lkxj4CMC2nZ4"
      },
      "source": [
        "%%bigquery  --project tefgfs Fimportance\n",
        "\n",
        "SELECT\n",
        "  *\n",
        "FROM\n",
        "  ML.FEATURE_IMPORTANCE(MODEL `tefgfs.mmML.KW_xgboostMopGAv6`) order by importance_weight desc\n",
        "\n"
      ],
      "execution_count": null,
      "outputs": []
    },
    {
      "cell_type": "code",
      "metadata": {
        "id": "t_D-7RnP4aOH"
      },
      "source": [
        "# horizontaler barchart zur Fimportance der 10 feature\n",
        "import matplotlib.pyplot as plt\n",
        "import numpy as np\n",
        "\n",
        "Fimportance\n",
        "cols = ['feature','importance_weight']\n",
        "fimportance = Fimportance[cols].head(10)\n",
        "featureNames = fimportance['feature']\n",
        "importance = fimportance['importance_weight']\n",
        "\n",
        "plt.rcdefaults()\n",
        "fig, ax = plt.subplots()\n",
        "\n",
        "y_pos = np.arange(len(featureNames))\n",
        "\n",
        "#performance = 3 + 10 * np.random.rand(len(people))\n",
        "#error = np.random.rand(len(people))\n",
        "\n",
        "#ax.barh(y_pos, performance, xerr=error, align='center')\n",
        "ax.barh(y_pos, importance,  align='center')\n",
        "\n",
        "ax.set_yticks(y_pos)\n",
        "ax.set_yticklabels(featureNames)\n",
        "ax.invert_yaxis()  # labels read top-to-bottom\n",
        "ax.set_xlabel('importance')\n",
        "ax.set_title('FeatureImportance')\n",
        "\n",
        "plt.show()"
      ],
      "execution_count": null,
      "outputs": []
    },
    {
      "cell_type": "code",
      "metadata": {
        "id": "1Jn-goWwlsI9"
      },
      "source": [
        "Fimportance\n"
      ],
      "execution_count": null,
      "outputs": []
    },
    {
      "cell_type": "markdown",
      "metadata": {
        "id": "uOO-oX8t2Td-"
      },
      "source": [
        "die **für das Modell relevantesten Feature** (also die Spalten der TraingsdatenTabelle) sind:\n"
      ]
    },
    {
      "cell_type": "code",
      "metadata": {
        "id": "63ANOu3s2SgH"
      },
      "source": [
        "featureNames"
      ],
      "execution_count": null,
      "outputs": []
    },
    {
      "cell_type": "markdown",
      "metadata": {
        "id": "slAaCVFtDoTj"
      },
      "source": [
        "**die für die Testdaten prognostizierte Kaufwahrscheinlichkeit**\n"
      ]
    },
    {
      "cell_type": "code",
      "metadata": {
        "id": "HaKTKGMZDogB"
      },
      "source": [
        "#schreibe die Ergebnistabelle\n",
        "\n",
        "%%bigquery --project tefgfs \n",
        "\n",
        "CREATE  OR REPLACE Table `tefgfs.mmML.KW_resultData` as\n",
        "SELECT\n",
        "  *\n",
        "FROM ML.PREDICT(MODEL `tefgfs.mmML.KW_xgboostMopGAv6`,  \n",
        "(Select * from  `tefgfs.mmML.KW_testData`) )"
      ],
      "execution_count": null,
      "outputs": []
    },
    {
      "cell_type": "markdown",
      "metadata": {
        "id": "9VTUgesK9FIx"
      },
      "source": [
        ""
      ]
    },
    {
      "cell_type": "code",
      "metadata": {
        "id": "KmwhgHx_LLfj"
      },
      "source": [
        "#zeige die KW der Ergebnistabelle an \n",
        "%%bigquery --project tefgfs \n",
        "\n",
        "Select  trueLabel,predicted_label, 1-predicted_label_probs[OFFSET(1)].prob as KW,\n",
        "from\n",
        "(SELECT  o.label as trueLabel,*   FROM `tefgfs.mmML.KW_resultData` as o,Unnest(predicted_label_probs ) as p limit 100)  order by trueLabel desc"
      ],
      "execution_count": null,
      "outputs": []
    },
    {
      "cell_type": "markdown",
      "metadata": {
        "id": "9W3IYgnbXVOO"
      },
      "source": [
        "# **AutoML useCases**\n"
      ]
    },
    {
      "cell_type": "code",
      "metadata": {
        "id": "tV2TXoc7WbOh"
      },
      "source": [
        "%%bigquery --project tefgfs \n",
        "\n",
        "CREATE OR REPLACE MODEL `tefgfs.mmML.autoMopGAv6`\n",
        "OPTIONS(MODEL_TYPE = 'automl_classifier', budget_hours=2.0\n",
        "       ) AS \n",
        "Select * from (Select if(gaTransactId is null,0,1) as label, *  FROM   `tefgfs.ReportingData.mopGaSourcev6_o2_20200828` ) \n",
        "where   sessionTotalInteractionCount > 4 and sessionDurationMS > 500  \n",
        "\n",
        "\n",
        " "
      ],
      "execution_count": null,
      "outputs": []
    },
    {
      "cell_type": "markdown",
      "metadata": {
        "id": "EoahnzUMWbOo"
      },
      "source": [
        "**Auswertung**"
      ]
    },
    {
      "cell_type": "code",
      "metadata": {
        "id": "nwhKOrSWWbOp"
      },
      "source": [
        "%%bigquery --project tefgfs \n",
        "\n",
        "SELECT\n",
        "  *\n",
        "FROM\n",
        "  ML.TRAINING_INFO(MODEL`tefgfs.mmML.logMopGAv6`)\n",
        "ORDER BY iteration \n"
      ],
      "execution_count": null,
      "outputs": []
    },
    {
      "cell_type": "markdown",
      "metadata": {
        "id": "XMe13mVfLQO7"
      },
      "source": [
        "Model **evaluate**"
      ]
    },
    {
      "cell_type": "code",
      "metadata": {
        "id": "mnSXgOL3LWJR"
      },
      "source": [
        "%%bigquery  --project tefgfs \n",
        "\n",
        "SELECT\n",
        "  *\n",
        "FROM ML.EVALUATE(MODEL `tefgfs.mmML.logMopGAv6`, \n",
        "Select * from (Select if(gaTransactId is null,0,1) as label, *  FROM   `tefgfs.ReportingData.mopGaSourcev6_o2_20200829` ) \n",
        "where   sessionTotalInteractionCount > 4 and sessionDurationMS > 500  )"
      ],
      "execution_count": null,
      "outputs": []
    },
    {
      "cell_type": "markdown",
      "metadata": {
        "id": "BODhZSjNYGwJ"
      },
      "source": [
        "# **linReg useCases**\n"
      ]
    },
    {
      "cell_type": "markdown",
      "metadata": {
        "id": "j-K2-4cFjXzX"
      },
      "source": [
        "erst mal ein einfaches linReg-Model zur Vorhersage der total.transactions\n",
        "https://medium.com/@davide.anastasia/bigquery-ml-and-a-kaggle-competition-1f288cc2df65\n",
        "\n",
        "Numerical variables (of type NUMERIC, FLOAT64 or INT64) are standardized by default. In addition, standardization is automatically applied during prediction\n",
        "Features\n",
        "In order to “force” BigQuery to use **one-hot enconding**, even if the columns are numeric, we can use CAST to STRING. This simple change brought the evaluation score from 0.0137 to 0.0103 with half the number of iterations.\n",
        "CAST(app AS STRING) as app\n",
        "\n",
        "CREATE MODEL `kaggle_talkingdata_adtracking.talkingdata_logreg_sample_0003`\n",
        "OPTIONS (\n",
        "  model_type='logistic_reg',\n",
        "  input_label_cols=['is_attributed'],\n",
        "  data_split_method='seq',\n",
        "  data_split_col='click_time'\n",
        ") AS\n",
        "SELECT CAST(ip AS STRING) as ip,\n",
        "  CAST(app AS STRING) as app,\n",
        "  CAST(device AS STRING) as device,\n",
        "  CAST(os AS STRING) as os,\n",
        "  CAST(channel AS STRING) as channel,\n",
        "  click_time,\n",
        "  is_attributed\n",
        "FROM `kaggle_talkingdata_adtracking.dataset_train_sample`;"
      ]
    },
    {
      "cell_type": "code",
      "metadata": {
        "id": "1Vxu3mrUiFlv"
      },
      "source": [
        " %%bigquery --project tefgfs \n",
        "CREATE MODEL IF NOT EXISTS `tefgfs.mmML.linRegGA`\n",
        "OPTIONS(model_type='logistic_reg') AS\n",
        "SELECT\n",
        "  IF(totals.transactions IS NULL, 0, 1) AS label,\n",
        "  IFNULL(device.operatingSystem, \"\") AS os,\n",
        "  device.isMobile AS is_mobile,\n",
        "  IFNULL(geoNetwork.country, \"\") AS country,\n",
        "  IFNULL(totals.pageviews, 0) AS pageviews\n",
        "FROM\n",
        "     `tefgfs.103498486.ga_sessions_*`   \n",
        "WHERE\n",
        "  _TABLE_SUFFIX BETWEEN \"20201005\" AND \"20201007\"  \n"
      ],
      "execution_count": null,
      "outputs": []
    },
    {
      "cell_type": "code",
      "metadata": {
        "id": "jvRsxQ2GjtS9"
      },
      "source": [
        "#Model2:\n",
        "\n",
        "The following query creates a model and specifies model options. Run this query to train your model:\n",
        "CREATE OR REPLACE MODEL `ecommerce.classification_model`\n",
        "%%bigquery  --project tefgfs \n",
        "\n",
        "CREATE MODEL IF NOT EXISTS `tefgfs.mmML.linRegGA2`\n",
        "OPTIONS\n",
        "(\n",
        "model_type='logistic_reg',\n",
        "labels = ['will_buy_on_return_visit']\n",
        ")\n",
        "AS\n",
        "with dataRange as\n",
        "(\n",
        "  \n",
        "  SELECT    *  FROM   `tefgfs.103498486.ga_sessions_20201005`#  WHERE  _TABLE_SUFFIX BETWEEN \"20200920\" AND \"20200930\"  \n",
        ")\n",
        "#standardSQL\n",
        "SELECT\n",
        "  * EXCEPT(fullVisitorId)\n",
        "FROM\n",
        "\n",
        "  # features\n",
        "  (SELECT\n",
        "    fullVisitorId,\n",
        "    IFNULL(totals.bounces, 0) AS bounces,\n",
        "    IFNULL(totals.timeOnSite, 0) AS time_on_site\n",
        "  FROM\n",
        "    dataRange\n",
        "  WHERE\n",
        "    totals.newVisits = 1\n",
        "  )\n",
        "  JOIN\n",
        "  (SELECT\n",
        "    fullvisitorid,\n",
        "    IF(COUNTIF(totals.transactions > 0 AND totals.newVisits IS NULL) > 0, 1, 0) AS will_buy_on_return_visit\n",
        "  FROM\n",
        "     dataRange\n",
        "  GROUP BY fullvisitorid)\n",
        "  USING (fullVisitorId)\n",
        "\n",
        "\n"
      ],
      "execution_count": null,
      "outputs": []
    },
    {
      "cell_type": "markdown",
      "metadata": {
        "id": "I7CG5JIKo6sg"
      },
      "source": [
        "**Test** "
      ]
    },
    {
      "cell_type": "code",
      "metadata": {
        "id": "yC6s9vU8oFVc"
      },
      "source": [
        "#Test Model2\n",
        "\n",
        "%%bigquery --project tefgfs \n",
        "\n",
        "SELECT\n",
        "  roc_auc,\n",
        "  CASE\n",
        "    WHEN roc_auc > .9 THEN 'good'\n",
        "    WHEN roc_auc > .8 THEN 'fair'\n",
        "    WHEN roc_auc > .7 THEN 'decent'\n",
        "    WHEN roc_auc > .6 THEN 'not great'\n",
        "  ELSE 'poor' END AS model_quality\n",
        "FROM\n",
        "  ML.EVALUATE(MODEL `tefgfs.mmML.linRegGA2`,  (\n",
        "\n",
        "with testdataRange as\n",
        "(\n",
        "  \n",
        "  SELECT    *  FROM   `tefgfs.103498486.ga_sessions_20201006`#  WHERE  _TABLE_SUFFIX BETWEEN \"20200920\" AND \"20200930\"  \n",
        ")\n",
        "SELECT\n",
        "  * EXCEPT(fullVisitorId)\n",
        "FROM\n",
        "\n",
        "  # features\n",
        "  (SELECT\n",
        "    fullVisitorId,\n",
        "    IFNULL(totals.bounces, 0) AS bounces,\n",
        "    IFNULL(totals.timeOnSite, 0) AS time_on_site\n",
        "  FROM\n",
        "   testdataRange\n",
        "  WHERE\n",
        "    totals.newVisits = 1\n",
        "    )\n",
        "  JOIN\n",
        "  (SELECT\n",
        "    fullvisitorid,\n",
        "    IF(COUNTIF(totals.transactions > 0 AND totals.newVisits IS NULL) > 0, 1, 0) AS will_buy_on_return_visit\n",
        "  FROM\n",
        "      testdataRange\n",
        "  GROUP BY fullvisitorid)\n",
        "  USING (fullVisitorId)\n",
        "\n",
        "))\n"
      ],
      "execution_count": null,
      "outputs": []
    },
    {
      "cell_type": "markdown",
      "metadata": {
        "id": "ZVmzLxgHqWdc"
      },
      "source": [
        "**Model3**\n",
        "\n",
        "---\n",
        "\n",
        "\n",
        "A key new feature that was added to the training dataset query is the maximum checkout progress each visitor reached in their session, which is recorded in the field **hits.eCommerceAction.action_type**. If you search for that field in the field definitions you will see the field mapping of 6 = Completed Purchase.\n",
        "The web analytics dataset has nested and repeated fields like ARRAYS which need to broken apart into separate rows in your dataset. This is accomplished by using the UNNEST() function, which you can see in the above query.\n"
      ]
    },
    {
      "cell_type": "code",
      "metadata": {
        "id": "ZLaTnhp9qWvf"
      },
      "source": [
        "#Train Model3\n",
        "\n",
        "%%bigquery --project tefgfs \n",
        "#Train Model3\n",
        "\n",
        "\n",
        "CREATE OR REPLACE MODEL `tefgfs.mmML.linRegGA3`\n",
        "OPTIONS\n",
        "  (model_type='logistic_reg', labels = ['will_buy_on_return_visit']) AS\n",
        "\n",
        "WITH dataRange as\n",
        "(\n",
        "  SELECT    *  FROM   `tefgfs.103498486.ga_sessions_*` WHERE  _TABLE_SUFFIX BETWEEN \"20200920\" AND \"20200930\"  \n",
        ")\n",
        ",all_visitor_stats AS (\n",
        "SELECT\n",
        "  fullvisitorid,\n",
        "  IF(COUNTIF(totals.transactions > 0 AND totals.newVisits IS NULL) > 0, 1, 0) AS will_buy_on_return_visit\n",
        "  FROM dataRange\n",
        "  GROUP BY fullvisitorid\n",
        ")\n",
        "# add in new features\n",
        "SELECT * EXCEPT(unique_session_id) FROM (\n",
        "\n",
        "  SELECT\n",
        "      CONCAT(fullvisitorid, CAST(visitId AS STRING)) AS unique_session_id,\n",
        "\n",
        "      # labels\n",
        "      will_buy_on_return_visit,\n",
        "\n",
        "      MAX(CAST(h.eCommerceAction.action_type AS INT64)) AS latest_ecommerce_progress,\n",
        "\n",
        "      # behavior on the site\n",
        "      IFNULL(totals.bounces, 0) AS bounces,\n",
        "      IFNULL(totals.timeOnSite, 0) AS time_on_site,\n",
        "      totals.pageviews,\n",
        "\n",
        "      # where the visitor came from\n",
        "      trafficSource.source,\n",
        "      trafficSource.medium,\n",
        "      channelGrouping,\n",
        "\n",
        "      # mobile or desktop\n",
        "      device.deviceCategory,\n",
        "\n",
        "      # geographic\n",
        "      IFNULL(geoNetwork.country, \"\") AS country\n",
        "\n",
        "  FROM dataRange,\n",
        "     UNNEST(hits) AS h\n",
        "\n",
        "    JOIN all_visitor_stats USING(fullvisitorid)\n",
        "\n",
        "  WHERE 1=1\n",
        "    # only predict for new visits\n",
        "    AND totals.newVisits = 1\n",
        "    \n",
        "  GROUP BY\n",
        "  unique_session_id,\n",
        "  will_buy_on_return_visit,\n",
        "  bounces,\n",
        "  time_on_site,\n",
        "  totals.pageviews,\n",
        "  trafficSource.source,\n",
        "  trafficSource.medium,\n",
        "  channelGrouping,\n",
        "  device.deviceCategory,\n",
        "  country\n",
        ")\n"
      ],
      "execution_count": null,
      "outputs": []
    },
    {
      "cell_type": "markdown",
      "metadata": {
        "id": "INEFhVs1q7rG"
      },
      "source": [
        "**Test**"
      ]
    },
    {
      "cell_type": "code",
      "metadata": {
        "id": "Z1gq8-qfq8oZ"
      },
      "source": [
        "\n",
        "#Test Model3\n",
        "%%bigquery --project tefgfs \n",
        "#standardSQL\n",
        "\n",
        "SELECT \n",
        "  *,\n",
        "  CASE\n",
        "    WHEN roc_auc > .9 THEN 'good'\n",
        "    WHEN roc_auc > .8 THEN 'fair'\n",
        "    WHEN roc_auc > .7 THEN 'decent'\n",
        "    WHEN roc_auc > .6 THEN 'not great'\n",
        "  ELSE 'poor' END AS model_quality\n",
        "FROM\n",
        "  ML.EVALUATE(MODEL `tefgfs.mmML.linRegGA3`,(  \n",
        "\n",
        "WITH  dataRange as\n",
        "(\n",
        "  SELECT    *  FROM   `tefgfs.103498486.ga_sessions_*` WHERE  _TABLE_SUFFIX BETWEEN \"20201001\" AND \"20201007\" \n",
        "),\n",
        "all_visitor_stats AS (\n",
        "SELECT\n",
        "  fullvisitorid,\n",
        "  IF(COUNTIF(totals.transactions > 0 AND totals.newVisits IS NULL) > 0, 1, 0) AS will_buy_on_return_visit\n",
        "  FROM dataRange\n",
        "  GROUP BY fullvisitorid\n",
        ")\n",
        "\n",
        "# add in new features\n",
        "SELECT * EXCEPT(unique_session_id) FROM (\n",
        "\n",
        "  SELECT\n",
        "      CONCAT(fullvisitorid, CAST(visitId AS STRING)) AS unique_session_id,\n",
        "\n",
        "      # labels\n",
        "      will_buy_on_return_visit,\n",
        "\n",
        "      MAX(CAST(h.eCommerceAction.action_type AS INT64)) AS latest_ecommerce_progress,\n",
        "\n",
        "      # behavior on the site\n",
        "      IFNULL(totals.bounces, 0) AS bounces,\n",
        "      IFNULL(totals.timeOnSite, 0) AS time_on_site,\n",
        "      totals.pageviews,\n",
        "\n",
        "      # where the visitor came from\n",
        "      trafficSource.source,\n",
        "      trafficSource.medium,\n",
        "      channelGrouping,\n",
        "\n",
        "      # mobile or desktop\n",
        "      device.deviceCategory,\n",
        "\n",
        "      # geographic\n",
        "      IFNULL(geoNetwork.country, \"\") AS country\n",
        "\n",
        "  FROM dataRange,\n",
        "     UNNEST(hits) AS h\n",
        "\n",
        "    JOIN all_visitor_stats USING(fullvisitorid)\n",
        "\n",
        "  WHERE 1=1\n",
        "    # only predict for new visits\n",
        "    AND totals.newVisits = 1\n",
        "    \n",
        "  GROUP BY\n",
        "  unique_session_id,\n",
        "  will_buy_on_return_visit,\n",
        "  bounces,\n",
        "  time_on_site,\n",
        "  totals.pageviews,\n",
        "  trafficSource.source,\n",
        "  trafficSource.medium,\n",
        "  channelGrouping,\n",
        "  device.deviceCategory,\n",
        "  country\n",
        ")\n",
        "))\n"
      ],
      "execution_count": null,
      "outputs": []
    },
    {
      "cell_type": "markdown",
      "metadata": {
        "id": "zhqPekhl5tvc"
      },
      "source": [
        "roc_auch:  0.725  .. wird auch nicht mehr durch 2 weitere Parameter verbessert - auch nicht durch Ausdehung des Trainingszeitraums. "
      ]
    },
    {
      "cell_type": "markdown",
      "metadata": {
        "id": "8QJ8T-x3jjMa"
      },
      "source": [
        "**Austausch des Algorithmus .. von logistic_reg auf xgboost**\n",
        "\n",
        "---\n",
        "\n",
        "\n"
      ]
    },
    {
      "cell_type": "code",
      "metadata": {
        "id": "c-9FKdUGYGwK"
      },
      "source": [
        "%%bigquery --project tefgfs \n",
        "\n",
        "\n",
        "#Train Model3\n",
        "\n",
        "\n",
        "CREATE OR REPLACE MODEL `tefgfs.mmML.linRegGA4_xgb`\n",
        "#OPTIONS\n",
        "#  (model_type='logistic_reg', labels = ['will_buy_on_return_visit']) AS\n",
        "OPTIONS(MODEL_TYPE='BOOSTED_TREE_CLASSIFIER',\n",
        "        BOOSTER_TYPE = 'GBTREE',\n",
        "        NUM_PARALLEL_TREE = 1,\n",
        "        MAX_ITERATIONS = 50,\n",
        "        TREE_METHOD = 'HIST',\n",
        "        EARLY_STOP = TRUE,\n",
        "        SUBSAMPLE = 0.85,\n",
        "        INPUT_LABEL_COLS = ['will_buy_on_return_visit']) AS \n",
        "WITH dataRange as\n",
        "(\n",
        "  SELECT    *  FROM   `tefgfs.103498486.ga_sessions_*` WHERE  _TABLE_SUFFIX BETWEEN \"20200901\" AND \"20200930\"  \n",
        ")\n",
        ",all_visitor_stats AS (\n",
        "SELECT\n",
        "  fullvisitorid,\n",
        "  IF(COUNTIF(totals.transactions > 0 AND totals.newVisits IS NULL) > 0, 1, 0) AS will_buy_on_return_visit\n",
        "  FROM dataRange\n",
        "  GROUP BY fullvisitorid\n",
        ")\n",
        "# add in new features\n",
        "SELECT * EXCEPT(unique_session_id) FROM (\n",
        "\n",
        "  SELECT\n",
        "      CONCAT(fullvisitorid, CAST(visitId AS STRING)) AS unique_session_id,\n",
        "\n",
        "      # labels\n",
        "      will_buy_on_return_visit,\n",
        "  IFNULL(device.operatingSystem, \"\") AS os,\n",
        "  device.isMobile AS is_mobile,\n",
        "  \n",
        "      MAX(CAST(h.eCommerceAction.action_type AS INT64)) AS latest_ecommerce_progress,\n",
        "\n",
        "      # behavior on the site\n",
        "      IFNULL(totals.bounces, 0) AS bounces,\n",
        "      IFNULL(totals.timeOnSite, 0) AS time_on_site,\n",
        "      totals.pageviews,\n",
        "\n",
        "      # where the visitor came from\n",
        "      trafficSource.source,\n",
        "      trafficSource.medium,\n",
        "      channelGrouping,\n",
        "\n",
        "      # mobile or desktop\n",
        "      device.deviceCategory,\n",
        "\n",
        "      # geographic\n",
        "      IFNULL(geoNetwork.country, \"\") AS country\n",
        "\n",
        "  FROM dataRange,\n",
        "     UNNEST(hits) AS h\n",
        "\n",
        "    JOIN all_visitor_stats USING(fullvisitorid)\n",
        "\n",
        "  WHERE 1=1\n",
        "    # only predict for new visits\n",
        "    AND totals.newVisits = 1\n",
        "    \n",
        "  GROUP BY\n",
        "  unique_session_id,\n",
        "  will_buy_on_return_visit,\n",
        "  bounces,\n",
        "  time_on_site,\n",
        "  totals.pageviews,\n",
        "  trafficSource.source,\n",
        "  trafficSource.medium,\n",
        "  channelGrouping,\n",
        "  device.deviceCategory,\n",
        "  country,\n",
        "  os,is_mobile\n",
        ")\n",
        "\n",
        " "
      ],
      "execution_count": null,
      "outputs": []
    },
    {
      "cell_type": "markdown",
      "metadata": {
        "id": "bksLvrSQYGwN"
      },
      "source": [
        "**Auswertung**"
      ]
    },
    {
      "cell_type": "code",
      "metadata": {
        "id": "2js070J8YGwO"
      },
      "source": [
        "%%bigquery  --project tefgfs \n",
        "\n",
        "SELECT\n",
        "  *\n",
        "FROM\n",
        "  ML.TRAINING_INFO(MODEL`tefgfs.mmML.KW_logMopGAv6`)\n",
        "ORDER BY iteration \n"
      ],
      "execution_count": null,
      "outputs": []
    },
    {
      "cell_type": "markdown",
      "metadata": {
        "id": "zHlfTqk26kqg"
      },
      "source": [
        "***Test***"
      ]
    },
    {
      "cell_type": "code",
      "metadata": {
        "id": "kNt5TBWF6jGQ"
      },
      "source": [
        "#Test Model3\n",
        "%%bigquery  --project tefgfs \n",
        "#standardSQL\n",
        "\n",
        "SELECT \n",
        "  *,\n",
        "  CASE\n",
        "    WHEN roc_auc > .9 THEN 'good'\n",
        "    WHEN roc_auc > .8 THEN 'fair'\n",
        "    WHEN roc_auc > .7 THEN 'decent'\n",
        "    WHEN roc_auc > .6 THEN 'not great'\n",
        "  ELSE 'poor' END AS model_quality\n",
        "FROM\n",
        "  ML.EVALUATE(MODEL `tefgfs.mmML.linRegGA4_xgb`,(  \n",
        "\n",
        "WITH  dataRange as\n",
        "(\n",
        "  SELECT    *  FROM   `tefgfs.103498486.ga_sessions_*` WHERE  _TABLE_SUFFIX BETWEEN \"20201001\" AND \"20201007\" \n",
        "),\n",
        "all_visitor_stats AS (\n",
        "SELECT\n",
        "  fullvisitorid,\n",
        "  IF(COUNTIF(totals.transactions > 0 AND totals.newVisits IS NULL) > 0, 1, 0) AS will_buy_on_return_visit\n",
        "  FROM dataRange\n",
        "  GROUP BY fullvisitorid\n",
        ")\n",
        "\n",
        "# add in new features\n",
        "SELECT * EXCEPT(unique_session_id) FROM (\n",
        "\n",
        "  SELECT\n",
        "      CONCAT(fullvisitorid, CAST(visitId AS STRING)) AS unique_session_id,\n",
        "\n",
        "      # labels\n",
        "      will_buy_on_return_visit,\n",
        " IFNULL(device.operatingSystem, \"\") AS os,\n",
        "  device.isMobile AS is_mobile,\n",
        "      MAX(CAST(h.eCommerceAction.action_type AS INT64)) AS latest_ecommerce_progress,\n",
        "\n",
        "      # behavior on the site\n",
        "      IFNULL(totals.bounces, 0) AS bounces,\n",
        "      IFNULL(totals.timeOnSite, 0) AS time_on_site,\n",
        "      totals.pageviews,\n",
        "\n",
        "      # where the visitor came from\n",
        "      trafficSource.source,\n",
        "      trafficSource.medium,\n",
        "      channelGrouping,\n",
        "\n",
        "      # mobile or desktop\n",
        "      device.deviceCategory,\n",
        "\n",
        "      # geographic\n",
        "      IFNULL(geoNetwork.country, \"\") AS country\n",
        "\n",
        "  FROM dataRange,\n",
        "     UNNEST(hits) AS h\n",
        "\n",
        "    JOIN all_visitor_stats USING(fullvisitorid)\n",
        "\n",
        "  WHERE 1=1\n",
        "    # only predict for new visits\n",
        "    AND totals.newVisits = 1\n",
        "    \n",
        "  GROUP BY\n",
        "  unique_session_id,\n",
        "  will_buy_on_return_visit,\n",
        "  bounces,\n",
        "  time_on_site,\n",
        "  totals.pageviews,\n",
        "  trafficSource.source,\n",
        "  trafficSource.medium,\n",
        "  channelGrouping,\n",
        "  device.deviceCategory,\n",
        "  country,\n",
        "  os,is_mobile\n",
        ")\n",
        "))\n",
        "\n",
        "# 0.7277  statt 0.725 mit lin Reg ... lohnt fast nicht !!"
      ],
      "execution_count": null,
      "outputs": []
    },
    {
      "cell_type": "markdown",
      "metadata": {
        "id": "bVXlqwAWYGwS"
      },
      "source": [
        "**FeatureImportance**"
      ]
    },
    {
      "cell_type": "code",
      "metadata": {
        "id": "aMRO_INOYGwT"
      },
      "source": [
        "%%bigquery  --project tefgfs \n",
        "\n",
        "SELECT\n",
        "  *\n",
        "FROM\n",
        "  ML.FEATURE_IMPORTANCE(MODEL `tefgfs.mmML.linRegGA4_xgb`) order by importance_weight desc #`tefgfs.mmML.linRegGA4_xgb`\n"
      ],
      "execution_count": null,
      "outputs": []
    }
  ]
}